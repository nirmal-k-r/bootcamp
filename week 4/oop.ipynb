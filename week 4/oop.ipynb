{
 "cells": [
  {
   "cell_type": "code",
   "execution_count": 24,
   "metadata": {},
   "outputs": [
    {
     "name": "stdout",
     "output_type": "stream",
     "text": [
      "10000\n",
      "10000\n"
     ]
    }
   ],
   "source": [
    "class User:\n",
    "    def __init__(self,salary):\n",
    "        self.__salary=salary\n",
    "\n",
    "    def info(self):\n",
    "        print(self.__salary)\n",
    "    \n",
    "    @property\n",
    "    def salary(self):\n",
    "        return(self.__salary)\n",
    "\n",
    "    @salary.getter\n",
    "    def salary(self):\n",
    "        return(self.__salary)\n",
    "\n",
    "    # @salary.setter\n",
    "    # def salary(self,salary):\n",
    "    #     self.__salary=salary\n",
    "\n",
    "#main\n",
    "tom=User(10000)\n",
    "# tom.salary=9999999\n",
    "# tom.set_salary(999999999)\n",
    "print(tom.salary)\n",
    "tom.info()"
   ]
  }
 ],
 "metadata": {
  "kernelspec": {
   "display_name": "Python 3",
   "language": "python",
   "name": "python3"
  },
  "language_info": {
   "codemirror_mode": {
    "name": "ipython",
    "version": 3
   },
   "file_extension": ".py",
   "mimetype": "text/x-python",
   "name": "python",
   "nbconvert_exporter": "python",
   "pygments_lexer": "ipython3",
   "version": "3.10.2"
  },
  "orig_nbformat": 4
 },
 "nbformat": 4,
 "nbformat_minor": 2
}
