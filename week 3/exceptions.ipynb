{
 "cells": [
  {
   "cell_type": "code",
   "execution_count": 4,
   "metadata": {},
   "outputs": [
    {
     "name": "stdout",
     "output_type": "stream",
     "text": [
      "Program starts\n"
     ]
    },
    {
     "ename": "ZeroDivisionError",
     "evalue": "division by zero",
     "output_type": "error",
     "traceback": [
      "\u001b[0;31m---------------------------------------------------------------------------\u001b[0m",
      "\u001b[0;31mZeroDivisionError\u001b[0m                         Traceback (most recent call last)",
      "\u001b[1;32m/Users/nirmal/Desktop/Coder Faculty/Bootcamp/codes/week 3/exceptions.ipynb Cell 1\u001b[0m in \u001b[0;36m<cell line: 2>\u001b[0;34m()\u001b[0m\n\u001b[1;32m      <a href='vscode-notebook-cell:/Users/nirmal/Desktop/Coder%20Faculty/Bootcamp/codes/week%203/exceptions.ipynb#W0sZmlsZQ%3D%3D?line=0'>1</a>\u001b[0m \u001b[39mprint\u001b[39m(\u001b[39m'\u001b[39m\u001b[39mProgram starts\u001b[39m\u001b[39m'\u001b[39m)\n\u001b[0;32m----> <a href='vscode-notebook-cell:/Users/nirmal/Desktop/Coder%20Faculty/Bootcamp/codes/week%203/exceptions.ipynb#W0sZmlsZQ%3D%3D?line=1'>2</a>\u001b[0m \u001b[39mprint\u001b[39m(\u001b[39m10\u001b[39;49m\u001b[39m/\u001b[39;49m\u001b[39m0\u001b[39;49m)\n\u001b[1;32m      <a href='vscode-notebook-cell:/Users/nirmal/Desktop/Coder%20Faculty/Bootcamp/codes/week%203/exceptions.ipynb#W0sZmlsZQ%3D%3D?line=3'>4</a>\u001b[0m \u001b[39mprint\u001b[39m(\u001b[39m'\u001b[39m\u001b[39mProgram is still working\u001b[39m\u001b[39m'\u001b[39m)\n",
      "\u001b[0;31mZeroDivisionError\u001b[0m: division by zero"
     ]
    }
   ],
   "source": [
    "print('Program starts')\n",
    "print(10/0)\n",
    "\n",
    "print('Program is still working')\n"
   ]
  },
  {
   "cell_type": "code",
   "execution_count": 6,
   "metadata": {},
   "outputs": [
    {
     "name": "stdout",
     "output_type": "stream",
     "text": [
      "Program starts\n",
      "An error occurred\n",
      "Program is still working\n"
     ]
    }
   ],
   "source": [
    "print('Program starts')\n",
    "try:\n",
    "    print(10/0)\n",
    "    print('this line will never be printed')\n",
    "except:\n",
    "    print('An error occurred')\n",
    "\n",
    "print('Program is still working')\n"
   ]
  },
  {
   "cell_type": "code",
   "execution_count": 8,
   "metadata": {},
   "outputs": [
    {
     "name": "stdout",
     "output_type": "stream",
     "text": [
      "Program starts\n",
      "An error occurred\n",
      "[Errno 2] No such file or directory: 'abce.txt'\n",
      "Program is still working\n"
     ]
    }
   ],
   "source": [
    "print('Program starts')\n",
    "try:\n",
    "    # print(10/0)\n",
    "    file=open('abce.txt','r') #errror file not found\n",
    "    print('this line will never be printed')\n",
    "    \n",
    "except Exception as e:\n",
    "    print('An error occurred')\n",
    "    print(str(e))\n",
    "\n",
    "print('Program is still working')\n"
   ]
  },
  {
   "cell_type": "code",
   "execution_count": 10,
   "metadata": {},
   "outputs": [
    {
     "name": "stdout",
     "output_type": "stream",
     "text": [
      "Program starts\n",
      "you cant divide by zero\n",
      "Program is still working\n"
     ]
    }
   ],
   "source": [
    "print('Program starts')\n",
    "try:\n",
    "    print(10/0)\n",
    "    #file=open('abce.txt','r') #errror file not found\n",
    "    print('this line will never be printed')\n",
    "\n",
    "except ZeroDivisionError as e: \n",
    "    print('you cant divide by zero')\n",
    "\n",
    "except FileNotFoundError as e:\n",
    "    print('Dont open a file that doesnt exist')\n",
    "\n",
    "except Exception as e:\n",
    "    print('An error occurred')\n",
    "    print(str(e))\n",
    "\n",
    "print('Program is still working')"
   ]
  },
  {
   "cell_type": "code",
   "execution_count": 13,
   "metadata": {},
   "outputs": [
    {
     "name": "stdout",
     "output_type": "stream",
     "text": [
      "Program starts\n",
      "10.0\n",
      "this line will never be printed\n",
      "No exception occurred\n",
      "Program is still working\n"
     ]
    }
   ],
   "source": [
    "print('Program starts')\n",
    "try:\n",
    "    print(10/1)\n",
    "    print('this line will never be printed')\n",
    "    \n",
    "except Exception as e:\n",
    "    print(str(e))\n",
    "\n",
    "else:\n",
    "    print('No exception occurred')\n",
    "\n",
    "print('Program is still working')"
   ]
  },
  {
   "cell_type": "code",
   "execution_count": 15,
   "metadata": {},
   "outputs": [
    {
     "name": "stdout",
     "output_type": "stream",
     "text": [
      "Program starts\n",
      "10.0\n",
      "this line will never be printed\n",
      "No exception occurred\n",
      "This will always be executed\n",
      "Program is still working\n"
     ]
    }
   ],
   "source": [
    "print('Program starts')\n",
    "try:\n",
    "    print(10/1)\n",
    "    print('this line will never be printed')\n",
    "    \n",
    "except Exception as e:\n",
    "    print(str(e))\n",
    "\n",
    "else:\n",
    "    print('No exception occurred')\n",
    "    \n",
    "finally:\n",
    "    print('This will always be executed')\n",
    "\n",
    "print('Program is still working')"
   ]
  },
  {
   "cell_type": "code",
   "execution_count": 18,
   "metadata": {},
   "outputs": [
    {
     "name": "stdout",
     "output_type": "stream",
     "text": [
      "file not found. Swapping file\n",
      "Tom,20\n",
      "John,30\n",
      "Jack,40\n",
      "\n"
     ]
    }
   ],
   "source": [
    "try:\n",
    "    file=open('abce.txt','r')\n",
    "except FileNotFoundError as e:\n",
    "    print('file not found. Swapping file')\n",
    "    file=open('ages.txt','r')\n",
    "\n",
    "finally:\n",
    "    print(file.read())\n",
    "    file.close()"
   ]
  },
  {
   "cell_type": "code",
   "execution_count": 19,
   "metadata": {},
   "outputs": [
    {
     "name": "stdout",
     "output_type": "stream",
     "text": [
      "2.0\n"
     ]
    }
   ],
   "source": [
    "import math\n",
    "\n",
    "print(math.sqrt(4))"
   ]
  },
  {
   "cell_type": "code",
   "execution_count": 27,
   "metadata": {},
   "outputs": [
    {
     "name": "stdout",
     "output_type": "stream",
     "text": [
      "dog\n"
     ]
    }
   ],
   "source": [
    "import random\n",
    "animals=['dog','cat','mouse','horse','cow']\n",
    "\n",
    "choice=random.choice(animals)\n",
    "print(choice)"
   ]
  }
 ],
 "metadata": {
  "kernelspec": {
   "display_name": "Python 3",
   "language": "python",
   "name": "python3"
  },
  "language_info": {
   "codemirror_mode": {
    "name": "ipython",
    "version": 3
   },
   "file_extension": ".py",
   "mimetype": "text/x-python",
   "name": "python",
   "nbconvert_exporter": "python",
   "pygments_lexer": "ipython3",
   "version": "3.10.2"
  },
  "orig_nbformat": 4
 },
 "nbformat": 4,
 "nbformat_minor": 2
}
