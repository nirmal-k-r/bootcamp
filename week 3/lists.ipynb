{
 "cells": [
  {
   "cell_type": "code",
   "execution_count": 2,
   "metadata": {},
   "outputs": [
    {
     "name": "stdout",
     "output_type": "stream",
     "text": [
      "[90, 80, 70, 60, 50]\n",
      "[90, 80, 70, 60, 50, 40]\n"
     ]
    }
   ],
   "source": [
    "#definign a list\n",
    "empty_list=[]\n",
    "\n",
    "marks=[90,80,70,60,50]\n",
    "print(marks)\n",
    "\n",
    "#adding an elemnt to a list\n",
    "marks.append(40)\n",
    "print(marks)\n"
   ]
  },
  {
   "cell_type": "code",
   "execution_count": 3,
   "metadata": {},
   "outputs": [
    {
     "name": "stdout",
     "output_type": "stream",
     "text": [
      "[80, 70, 60, 50, 40]\n"
     ]
    }
   ],
   "source": [
    "#remove an element from a list\n",
    "marks.remove(90)\n",
    "print(marks)\n"
   ]
  },
  {
   "cell_type": "code",
   "execution_count": 4,
   "metadata": {},
   "outputs": [
    {
     "name": "stdout",
     "output_type": "stream",
     "text": [
      "40\n"
     ]
    }
   ],
   "source": [
    "#popping an element\n",
    "\n",
    "value=marks.pop()\n",
    "print(value)"
   ]
  },
  {
   "cell_type": "code",
   "execution_count": 5,
   "metadata": {},
   "outputs": [
    {
     "name": "stdout",
     "output_type": "stream",
     "text": [
      "[30, 40, 40, 50]\n"
     ]
    }
   ],
   "source": [
    "#removing with duplicate values\n",
    "values=[40,30,40,40,50]\n",
    "values.remove(40)\n",
    "\n",
    "print(values)"
   ]
  },
  {
   "cell_type": "code",
   "execution_count": 6,
   "metadata": {},
   "outputs": [
    {
     "name": "stdout",
     "output_type": "stream",
     "text": [
      "[]\n"
     ]
    }
   ],
   "source": [
    "#removing all the elements from a list\n",
    "values.clear()\n",
    "print(values)"
   ]
  },
  {
   "cell_type": "code",
   "execution_count": 20,
   "metadata": {},
   "outputs": [
    {
     "name": "stdout",
     "output_type": "stream",
     "text": [
      "[1, 2, 3, 4, 5]\n",
      "[2, 3, 4, 5]\n"
     ]
    }
   ],
   "source": [
    "#del\n",
    "values=[1,2,3,4,5]\n",
    "print(values)\n",
    "\n",
    "del values[0]\n",
    "\n",
    "print(values)"
   ]
  },
  {
   "cell_type": "code",
   "execution_count": 21,
   "metadata": {},
   "outputs": [
    {
     "ename": "NameError",
     "evalue": "name 'favorite' is not defined",
     "output_type": "error",
     "traceback": [
      "\u001b[0;31m---------------------------------------------------------------------------\u001b[0m",
      "\u001b[0;31mNameError\u001b[0m                                 Traceback (most recent call last)",
      "\u001b[1;32m/Users/nirmal/Desktop/Coder Faculty/Bootcamp/codes/week 3/lists.ipynb Cell 7\u001b[0m in \u001b[0;36m<cell line: 4>\u001b[0;34m()\u001b[0m\n\u001b[1;32m      <a href='vscode-notebook-cell:/Users/nirmal/Desktop/Coder%20Faculty/Bootcamp/codes/week%203/lists.ipynb#X14sZmlsZQ%3D%3D?line=0'>1</a>\u001b[0m favorite\u001b[39m=\u001b[39m\u001b[39m\"\u001b[39m\u001b[39marsenal\u001b[39m\u001b[39m\"\u001b[39m\n\u001b[1;32m      <a href='vscode-notebook-cell:/Users/nirmal/Desktop/Coder%20Faculty/Bootcamp/codes/week%203/lists.ipynb#X14sZmlsZQ%3D%3D?line=1'>2</a>\u001b[0m \u001b[39mdel\u001b[39;00m favorite\n\u001b[0;32m----> <a href='vscode-notebook-cell:/Users/nirmal/Desktop/Coder%20Faculty/Bootcamp/codes/week%203/lists.ipynb#X14sZmlsZQ%3D%3D?line=3'>4</a>\u001b[0m \u001b[39mprint\u001b[39m(favorite)\n",
      "\u001b[0;31mNameError\u001b[0m: name 'favorite' is not defined"
     ]
    }
   ],
   "source": [
    "favorite=\"arsenal\"\n",
    "del favorite\n",
    "\n",
    "print(favorite)"
   ]
  },
  {
   "cell_type": "code",
   "execution_count": 10,
   "metadata": {},
   "outputs": [
    {
     "name": "stdout",
     "output_type": "stream",
     "text": [
      "[90, 80, 70, 60, 50]\n",
      "90\n",
      "80\n",
      "70\n",
      "60\n",
      "50\n"
     ]
    }
   ],
   "source": [
    "#accesing the list elements\n",
    "\n",
    "marks=[90,80,70,60,50]\n",
    "print(marks)\n",
    "\n",
    "print(marks[0])\n",
    "print(marks[1])\n",
    "print(marks[2])\n",
    "print(marks[3])\n",
    "print(marks[4])"
   ]
  },
  {
   "cell_type": "code",
   "execution_count": 11,
   "metadata": {},
   "outputs": [
    {
     "ename": "IndexError",
     "evalue": "list index out of range",
     "output_type": "error",
     "traceback": [
      "\u001b[0;31m---------------------------------------------------------------------------\u001b[0m",
      "\u001b[0;31mIndexError\u001b[0m                                Traceback (most recent call last)",
      "\u001b[1;32m/Users/nirmal/Desktop/Coder Faculty/Bootcamp/codes/week 3/lists.ipynb Cell 8\u001b[0m in \u001b[0;36m<cell line: 3>\u001b[0;34m()\u001b[0m\n\u001b[1;32m      <a href='vscode-notebook-cell:/Users/nirmal/Desktop/Coder%20Faculty/Bootcamp/codes/week%203/lists.ipynb#X11sZmlsZQ%3D%3D?line=0'>1</a>\u001b[0m marks\u001b[39m=\u001b[39m[\u001b[39m90\u001b[39m,\u001b[39m80\u001b[39m,\u001b[39m70\u001b[39m,\u001b[39m60\u001b[39m,\u001b[39m50\u001b[39m]\n\u001b[0;32m----> <a href='vscode-notebook-cell:/Users/nirmal/Desktop/Coder%20Faculty/Bootcamp/codes/week%203/lists.ipynb#X11sZmlsZQ%3D%3D?line=2'>3</a>\u001b[0m \u001b[39mprint\u001b[39m(marks[\u001b[39m5\u001b[39;49m])\n",
      "\u001b[0;31mIndexError\u001b[0m: list index out of range"
     ]
    }
   ],
   "source": [
    "marks=[90,80,70,60,50]\n",
    "\n",
    "print(marks[5])"
   ]
  },
  {
   "cell_type": "code",
   "execution_count": 15,
   "metadata": {},
   "outputs": [
    {
     "name": "stdout",
     "output_type": "stream",
     "text": [
      "50\n",
      "90\n"
     ]
    },
    {
     "ename": "IndexError",
     "evalue": "list index out of range",
     "output_type": "error",
     "traceback": [
      "\u001b[0;31m---------------------------------------------------------------------------\u001b[0m",
      "\u001b[0;31mIndexError\u001b[0m                                Traceback (most recent call last)",
      "\u001b[1;32m/Users/nirmal/Desktop/Coder Faculty/Bootcamp/codes/week 3/lists.ipynb Cell 9\u001b[0m in \u001b[0;36m<cell line: 3>\u001b[0;34m()\u001b[0m\n\u001b[1;32m      <a href='vscode-notebook-cell:/Users/nirmal/Desktop/Coder%20Faculty/Bootcamp/codes/week%203/lists.ipynb#X10sZmlsZQ%3D%3D?line=0'>1</a>\u001b[0m \u001b[39mprint\u001b[39m(marks[\u001b[39m-\u001b[39m\u001b[39m1\u001b[39m])\n\u001b[1;32m      <a href='vscode-notebook-cell:/Users/nirmal/Desktop/Coder%20Faculty/Bootcamp/codes/week%203/lists.ipynb#X10sZmlsZQ%3D%3D?line=1'>2</a>\u001b[0m \u001b[39mprint\u001b[39m(marks[\u001b[39m-\u001b[39m\u001b[39m5\u001b[39m])\n\u001b[0;32m----> <a href='vscode-notebook-cell:/Users/nirmal/Desktop/Coder%20Faculty/Bootcamp/codes/week%203/lists.ipynb#X10sZmlsZQ%3D%3D?line=2'>3</a>\u001b[0m \u001b[39mprint\u001b[39m(marks[\u001b[39m-\u001b[39;49m\u001b[39m6\u001b[39;49m])\n",
      "\u001b[0;31mIndexError\u001b[0m: list index out of range"
     ]
    }
   ],
   "source": [
    "print(marks[-1])\n",
    "print(marks[-5])"
   ]
  },
  {
   "cell_type": "code",
   "execution_count": 16,
   "metadata": {},
   "outputs": [
    {
     "name": "stdout",
     "output_type": "stream",
     "text": [
      "165\n"
     ]
    }
   ],
   "source": [
    "#lists stores different data types\n",
    "student=[\"Tom\",20,165,False]\n",
    "\n",
    "print(student[2])"
   ]
  },
  {
   "cell_type": "code",
   "execution_count": 18,
   "metadata": {},
   "outputs": [
    {
     "name": "stdout",
     "output_type": "stream",
     "text": [
      "['Tom', 20, 165, True]\n",
      "True\n"
     ]
    }
   ],
   "source": [
    "#modify list elements\n",
    "student=[\"Tom\",20,165,False]\n",
    "\n",
    "student[3]=True\n",
    "\n",
    "print(student)\n",
    "print(student[3])"
   ]
  },
  {
   "cell_type": "code",
   "execution_count": 23,
   "metadata": {},
   "outputs": [
    {
     "name": "stdout",
     "output_type": "stream",
     "text": [
      "Tom is a student\n",
      "Jane is a student\n",
      "Mary is a student\n",
      "John is a student\n",
      "Alice is a student\n"
     ]
    }
   ],
   "source": [
    "students=[\"Tom\",\"Jane\",\"Mary\",\"John\",\"Alice\"]\n",
    "\n",
    "for student in students:\n",
    "    print(student)\n",
    "    # print(student+ \" is a student\")"
   ]
  },
  {
   "cell_type": "code",
   "execution_count": 24,
   "metadata": {},
   "outputs": [
    {
     "name": "stdout",
     "output_type": "stream",
     "text": [
      "1\n",
      "2\n",
      "3\n",
      "4\n",
      "5\n"
     ]
    }
   ],
   "source": [
    "values=[1,2,3,4,5]\n",
    "\n",
    "for value in values:\n",
    "    print(value)"
   ]
  },
  {
   "cell_type": "code",
   "execution_count": 27,
   "metadata": {},
   "outputs": [
    {
     "name": "stdout",
     "output_type": "stream",
     "text": [
      "7\n"
     ]
    }
   ],
   "source": [
    "#length\n",
    "values=[1,2,3,4,5,6,10]\n",
    "\n",
    "print( len(values) )"
   ]
  },
  {
   "cell_type": "code",
   "execution_count": 29,
   "metadata": {},
   "outputs": [
    {
     "name": "stdout",
     "output_type": "stream",
     "text": [
      "[10, 20, 30, 40]\n",
      "[10, 20, 100, 40]\n"
     ]
    }
   ],
   "source": [
    "#multi-dimensional lists\n",
    "student_marks=[[10,20,30,40],[15,25,35,45],[18,28,38,48]]\n",
    "print(student_marks[0])\n",
    "\n",
    "student_marks[2][2]=100\n",
    "print(student_marks[2])\n",
    "\n",
    "\n",
    "# db:students\n",
    "# tables: students\n",
    "\n",
    "# {name: \"Tom\",marks:[10,20,30,40]}\n",
    "\n",
    "# db.find{\"name\":\"tom\"}\n",
    "\n"
   ]
  },
  {
   "cell_type": "code",
   "execution_count": null,
   "metadata": {},
   "outputs": [],
   "source": []
  }
 ],
 "metadata": {
  "kernelspec": {
   "display_name": "Python 3",
   "language": "python",
   "name": "python3"
  },
  "language_info": {
   "codemirror_mode": {
    "name": "ipython",
    "version": 3
   },
   "file_extension": ".py",
   "mimetype": "text/x-python",
   "name": "python",
   "nbconvert_exporter": "python",
   "pygments_lexer": "ipython3",
   "version": "3.10.2"
  },
  "orig_nbformat": 4
 },
 "nbformat": 4,
 "nbformat_minor": 2
}
