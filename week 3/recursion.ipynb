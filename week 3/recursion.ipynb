{
 "cells": [
  {
   "cell_type": "code",
   "execution_count": 9,
   "metadata": {},
   "outputs": [
    {
     "name": "stdout",
     "output_type": "stream",
     "text": [
      "1\n",
      "2\n",
      "3\n",
      "4\n"
     ]
    },
    {
     "data": {
      "text/plain": [
       "10"
      ]
     },
     "execution_count": 9,
     "metadata": {},
     "output_type": "execute_result"
    }
   ],
   "source": [
    "#recursion\n",
    "\n",
    "#pgram to calculate the sum of the first n numbers\n",
    "\n",
    "\n",
    "def sum(n):\n",
    "    total=0\n",
    "    for i in range(1,5):\n",
    "        # print(i)\n",
    "        total+=i\n",
    "    return total\n",
    "\n",
    "sum(4)"
   ]
  },
  {
   "cell_type": "code",
   "execution_count": 7,
   "metadata": {},
   "outputs": [
    {
     "data": {
      "text/plain": [
       "10"
      ]
     },
     "execution_count": 7,
     "metadata": {},
     "output_type": "execute_result"
    }
   ],
   "source": [
    "def sum(n):\n",
    "    if n==1:  #base case\n",
    "        return 1    \n",
    "    else:       #general case\n",
    "        return n+sum(n-1)    \n",
    "\n",
    "\n",
    "sum(4)\n",
    "    "
   ]
  },
  {
   "cell_type": "code",
   "execution_count": 23,
   "metadata": {},
   "outputs": [
    {
     "name": "stdout",
     "output_type": "stream",
     "text": [
      "['report.txt', ['cat.jpg', 'dog.txt', ['a.mp3', 'b.mp3', ['1.mp3', '2.mp3']]], [[], 'cv.pdf', 'dissertation.pdf', ['1.png', '2.png']]]\n",
      "File found\n"
     ]
    }
   ],
   "source": [
    "#recusive search fir directory\n",
    "def search(current_directory,filename):\n",
    "    print(current_directory)\n",
    "    if filename in current_directory:\n",
    "        return 'File found'\n",
    "    else:\n",
    "        for directory in current_directory:\n",
    "            if isinstance(directory,list):\n",
    "                return search(directory,filename)\n",
    "\n",
    "\n",
    "\n",
    "desktop=['report.txt',['cat.jpg','dog.txt',['a.mp3','b.mp3',['1.mp3','2.mp3']]],[[],'cv.pdf','dissertation.pdf',['1.png','2.png']]]\n",
    "\n",
    "# print(search(desktop,'2.mp3'))\n",
    "print(search(desktop,'report.txt'))\n"
   ]
  },
  {
   "cell_type": "code",
   "execution_count": 15,
   "metadata": {},
   "outputs": [],
   "source": [
    "a=''[1,2,3]\n",
    "\n",
    "if isinstance(a,list):\n",
    "    print(True)"
   ]
  },
  {
   "cell_type": "code",
   "execution_count": 28,
   "metadata": {},
   "outputs": [
    {
     "name": "stdout",
     "output_type": "stream",
     "text": [
      "['c', 'b']\n",
      "5\n"
     ]
    }
   ],
   "source": [
    "names=['a','b']\n",
    "\n",
    "def change(names):\n",
    "    names[0]='c'\n",
    "\n",
    "\n",
    "change(names)\n",
    "print(names)\n"
   ]
  }
 ],
 "metadata": {
  "kernelspec": {
   "display_name": "Python 3",
   "language": "python",
   "name": "python3"
  },
  "language_info": {
   "codemirror_mode": {
    "name": "ipython",
    "version": 3
   },
   "file_extension": ".py",
   "mimetype": "text/x-python",
   "name": "python",
   "nbconvert_exporter": "python",
   "pygments_lexer": "ipython3",
   "version": "3.10.2"
  },
  "orig_nbformat": 4
 },
 "nbformat": 4,
 "nbformat_minor": 2
}
