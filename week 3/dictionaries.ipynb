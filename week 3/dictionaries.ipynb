{
 "cells": [
  {
   "cell_type": "code",
   "execution_count": 1,
   "metadata": {},
   "outputs": [
    {
     "name": "stdout",
     "output_type": "stream",
     "text": [
      "{'name': 'Tom', 'age': 20, 'height': 165.5, 'maried': False}\n"
     ]
    }
   ],
   "source": [
    "student={ \n",
    "    \"name\":\"Tom\",\n",
    "    \"age\":20,\n",
    "    'height': 165.5,\n",
    "    'maried': False\n",
    "}\n",
    "\n",
    "print(student)"
   ]
  },
  {
   "cell_type": "code",
   "execution_count": 4,
   "metadata": {},
   "outputs": [
    {
     "name": "stdout",
     "output_type": "stream",
     "text": [
      "Tom\n",
      "20\n",
      "165.5\n",
      "False\n"
     ]
    }
   ],
   "source": [
    "print(student['name'])\n",
    "print(student['age'])\n",
    "print(student['height'])\n",
    "print(student['maried'])"
   ]
  },
  {
   "cell_type": "code",
   "execution_count": 5,
   "metadata": {},
   "outputs": [
    {
     "name": "stdout",
     "output_type": "stream",
     "text": [
      "{'english': 90, 'maths': 80, 'science': 70, 'social': 60}\n",
      "{'english': 95, 'maths': 80, 'science': 70, 'social': 60}\n"
     ]
    }
   ],
   "source": [
    "#update values in dictionary\n",
    "marks={\n",
    "    'english':90,\n",
    "    'maths':80,\n",
    "    'science':70,\n",
    "    'social':60\n",
    "}\n",
    "print(marks)\n",
    "marks['english']=95\n",
    "print(marks)"
   ]
  },
  {
   "cell_type": "code",
   "execution_count": 6,
   "metadata": {},
   "outputs": [
    {
     "name": "stdout",
     "output_type": "stream",
     "text": [
      "{'english': 95, 'maths': 80, 'science': 70}\n"
     ]
    }
   ],
   "source": [
    "#delete from dictionary\n",
    "del marks['social']\n",
    "print(marks)"
   ]
  },
  {
   "cell_type": "code",
   "execution_count": 7,
   "metadata": {},
   "outputs": [
    {
     "name": "stdout",
     "output_type": "stream",
     "text": [
      "{'name': 'Tom', 'age': 20, 'height': 165.5, 'maried': False, 'marks': {'english': 90, 'maths': 80, 'science': 70, 'social': 60}}\n"
     ]
    }
   ],
   "source": [
    "student={ \n",
    "    \"name\":\"Tom\",\n",
    "    \"age\":20,\n",
    "    'height': 165.5,\n",
    "    'maried': False\n",
    "}\n",
    "marks={\n",
    "    'english':90,\n",
    "    'maths':80,\n",
    "    'science':70,\n",
    "    'social':60\n",
    "}\n",
    "\n",
    "student['marks']=marks\n",
    "\n",
    "print(student)"
   ]
  },
  {
   "cell_type": "code",
   "execution_count": 9,
   "metadata": {},
   "outputs": [
    {
     "name": "stdout",
     "output_type": "stream",
     "text": [
      "[10, 20, 30, 40]\n",
      "[10, 20, 100, 40]\n"
     ]
    }
   ],
   "source": [
    "student={ \n",
    "    \"name\":\"Tom\",\n",
    "    \"age\":20,\n",
    "    'height': 165.5,\n",
    "    'marks':[10,20,30,40]\n",
    "}\n",
    "\n",
    "print(student['marks'])\n",
    "student['marks'][2]=100\n",
    "\n",
    "print(student['marks'])"
   ]
  },
  {
   "cell_type": "code",
   "execution_count": 18,
   "metadata": {},
   "outputs": [
    {
     "name": "stdout",
     "output_type": "stream",
     "text": [
      "0\n",
      "name: Tom\n",
      "age: 20\n",
      "height: 165.5\n",
      "marks: [10, 20, 30, 40]\n"
     ]
    }
   ],
   "source": [
    "student={ \n",
    "    \"name\":\"Tom\",\n",
    "    \"age\":20,\n",
    "    'height': 165.5,\n",
    "    'marks':[10,20,30,40]\n",
    "}\n",
    "\n",
    "data=student.get(\"test\",0) #default value\n",
    "\n",
    "print(data)\n",
    "\n",
    "\n",
    "for key in student:\n",
    "    print(key+\": \"+str(student[key]))"
   ]
  },
  {
   "cell_type": "code",
   "execution_count": 24,
   "metadata": {},
   "outputs": [
    {
     "name": "stdout",
     "output_type": "stream",
     "text": [
      "{1, 2, 3, 4}\n",
      "{1, 2, 3, 4, 5}\n",
      "{1, 2, 3, 4, 5}\n",
      "{2, 3, 4, 5}\n"
     ]
    }
   ],
   "source": [
    "#sets\n",
    "numbers={1,2,3,4}\n",
    "print(numbers)\n",
    "\n",
    "numbers.add(5)\n",
    "print(numbers)\n",
    "\n",
    "numbers.add(1)\n",
    "print(numbers)\n",
    "\n",
    "numbers.remove(1)\n",
    "print(numbers)\n",
    "\n",
    "\n"
   ]
  },
  {
   "cell_type": "code",
   "execution_count": 27,
   "metadata": {},
   "outputs": [
    {
     "name": "stdout",
     "output_type": "stream",
     "text": [
      "{1, 2}\n",
      "{1, 2, 3, 4, 5, 6}\n",
      "{3, 4, 5, 6}\n"
     ]
    }
   ],
   "source": [
    "a={1,2,3,4}\n",
    "b={1,2}\n",
    "c={5,6}\n",
    "\n",
    "big={1,2,3,4,5,6}\n",
    "small={1,2}\n",
    "\n",
    "print(a.intersection(b))\n",
    "print(a.union(c))\n",
    "\n",
    "print(big.difference(small))\n"
   ]
  },
  {
   "cell_type": "code",
   "execution_count": 31,
   "metadata": {},
   "outputs": [
    {
     "name": "stdout",
     "output_type": "stream",
     "text": [
      "Tom\n",
      "4\n"
     ]
    },
    {
     "ename": "TypeError",
     "evalue": "'tuple' object does not support item assignment",
     "output_type": "error",
     "traceback": [
      "\u001b[0;31m---------------------------------------------------------------------------\u001b[0m",
      "\u001b[0;31mTypeError\u001b[0m                                 Traceback (most recent call last)",
      "\u001b[1;32m/Users/nirmal/Desktop/Coder Faculty/Bootcamp/codes/week 3/dictionaries.ipynb Cell 10\u001b[0m in \u001b[0;36m<cell line: 8>\u001b[0;34m()\u001b[0m\n\u001b[1;32m      <a href='vscode-notebook-cell:/Users/nirmal/Desktop/Coder%20Faculty/Bootcamp/codes/week%203/dictionaries.ipynb#X12sZmlsZQ%3D%3D?line=3'>4</a>\u001b[0m \u001b[39mprint\u001b[39m(student[\u001b[39m0\u001b[39m])\n\u001b[1;32m      <a href='vscode-notebook-cell:/Users/nirmal/Desktop/Coder%20Faculty/Bootcamp/codes/week%203/dictionaries.ipynb#X12sZmlsZQ%3D%3D?line=5'>6</a>\u001b[0m \u001b[39mprint\u001b[39m(\u001b[39mlen\u001b[39m(student))\n\u001b[0;32m----> <a href='vscode-notebook-cell:/Users/nirmal/Desktop/Coder%20Faculty/Bootcamp/codes/week%203/dictionaries.ipynb#X12sZmlsZQ%3D%3D?line=7'>8</a>\u001b[0m student[\u001b[39m0\u001b[39m]\u001b[39m=\u001b[39m\u001b[39m\"\u001b[39m\u001b[39mjerry\u001b[39m\u001b[39m\"\u001b[39m\n",
      "\u001b[0;31mTypeError\u001b[0m: 'tuple' object does not support item assignment"
     ]
    }
   ],
   "source": [
    "#tuples\n",
    "student=(\"Tom\",20,165.5,False)\n",
    "\n",
    "print(student[0])\n",
    "\n",
    "print(len(student))\n"
   ]
  }
 ],
 "metadata": {
  "kernelspec": {
   "display_name": "Python 3",
   "language": "python",
   "name": "python3"
  },
  "language_info": {
   "codemirror_mode": {
    "name": "ipython",
    "version": 3
   },
   "file_extension": ".py",
   "mimetype": "text/x-python",
   "name": "python",
   "nbconvert_exporter": "python",
   "pygments_lexer": "ipython3",
   "version": "3.10.2"
  },
  "orig_nbformat": 4
 },
 "nbformat": 4,
 "nbformat_minor": 2
}
