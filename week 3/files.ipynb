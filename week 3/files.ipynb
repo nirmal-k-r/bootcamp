{
 "cells": [
  {
   "cell_type": "code",
   "execution_count": null,
   "metadata": {},
   "outputs": [],
   "source": [
    "#opening a file\n",
    "\n",
    "file=open(\"paragraphs.txt\",\"r\")  #open paragraph.txt file in read mode\n",
    "\n",
    "file.close() #close the file"
   ]
  },
  {
   "cell_type": "code",
   "execution_count": 1,
   "metadata": {},
   "outputs": [
    {
     "name": "stdout",
     "output_type": "stream",
     "text": [
      "This is some random  text\n",
      "\n",
      "line 3\n",
      "line 4 is here\n"
     ]
    }
   ],
   "source": [
    "#reading a file\n",
    "file=open(\"paragraphs.txt\",\"r\")  #open paragraph.txt file in read mode\n",
    "\n",
    "print(file.read()) #read the file\n",
    "file.close() #close the file"
   ]
  },
  {
   "cell_type": "code",
   "execution_count": 4,
   "metadata": {},
   "outputs": [
    {
     "name": "stdout",
     "output_type": "stream",
     "text": [
      "1: This is some random  text\n",
      "\n",
      "2: \n",
      "\n",
      "3: line 3\n",
      "\n",
      "4: line 4 is here\n"
     ]
    }
   ],
   "source": [
    "#read a file line by line\n",
    "file=open(\"paragraphs.txt\",\"r\")  \n",
    "\n",
    "i=1\n",
    "for line in file:\n",
    "    print(f\"{i}: {line}\")\n",
    "    i=i+1\n",
    "\n",
    "file.close()"
   ]
  },
  {
   "cell_type": "code",
   "execution_count": 5,
   "metadata": {},
   "outputs": [
    {
     "name": "stdout",
     "output_type": "stream",
     "text": [
      "This is some random  text\n",
      "\n",
      "line 3\n",
      "line 4 is here\n"
     ]
    }
   ],
   "source": [
    "#using with to open a file\n",
    "with open(\"paragraphs.txt\",\"r\") as file:\n",
    "    print(file.read())\n",
    "   "
   ]
  },
  {
   "cell_type": "code",
   "execution_count": 7,
   "metadata": {},
   "outputs": [
    {
     "name": "stdout",
     "output_type": "stream",
     "text": [
      "This is\n"
     ]
    }
   ],
   "source": [
    "with open(\"paragraphs.txt\",\"r\") as file:\n",
    "    print(file.read(7))"
   ]
  },
  {
   "cell_type": "code",
   "execution_count": 9,
   "metadata": {},
   "outputs": [
    {
     "name": "stdout",
     "output_type": "stream",
     "text": [
      "line\n"
     ]
    }
   ],
   "source": [
    "with open(\"paragraphs.txt\",\"r\") as file:\n",
    "    file.seek(8) #place my cursor on position 8\n",
    "    print(file.read(4))"
   ]
  },
  {
   "cell_type": "code",
   "execution_count": 16,
   "metadata": {},
   "outputs": [
    {
     "name": "stdout",
     "output_type": "stream",
     "text": [
      "0: some found in line: This is some random  text\n",
      "\n",
      "3: some found in line: line 4 is here some\n"
     ]
    }
   ],
   "source": [
    "#searching a file line by line\n",
    "def search(filename,keyword):\n",
    "    i=0\n",
    "    with open(filename,'r') as file:\n",
    "        for line in file:\n",
    "            if keyword in line:\n",
    "                print(f\"{i}: {keyword} found in line: {line}\")\n",
    "            i=i+1\n",
    "\n",
    "\n",
    "search('paragraphs.txt','some')"
   ]
  },
  {
   "cell_type": "code",
   "execution_count": 18,
   "metadata": {},
   "outputs": [
    {
     "name": "stdout",
     "output_type": "stream",
     "text": [
      "some found in file\n"
     ]
    }
   ],
   "source": [
    "#very basic sarch to check if keyword in file\n",
    "keyword='some'\n",
    "filename='paragraphs.txt'\n",
    "with open(filename,'r') as file:\n",
    "    if keyword in file.read():\n",
    "        print(f\"{keyword} found in file\")"
   ]
  },
  {
   "cell_type": "code",
   "execution_count": 23,
   "metadata": {},
   "outputs": [],
   "source": [
    "#writing a file\n",
    "file=open(\"names.txt\",\"w\")\n",
    "file.write(\"Tom\\n\")\n",
    "file.write(\"Pierre\")\n",
    "\n",
    "file.close() #close the file (otherwise it will not be saved)\n"
   ]
  },
  {
   "cell_type": "code",
   "execution_count": 25,
   "metadata": {},
   "outputs": [],
   "source": [
    "#append to the file\n",
    "\n",
    "file=open(\"names.txt\",\"a\")\n",
    "file.write('Jack\\n')\n",
    "file.write('John\\n')\n",
    "\n",
    "file.close()"
   ]
  },
  {
   "cell_type": "code",
   "execution_count": 26,
   "metadata": {},
   "outputs": [],
   "source": [
    "with open(\"names.txt\",\"a\") as file:\n",
    "    file.write('nirmal\\n')\n",
    "    file.write('kumar\\n')"
   ]
  },
  {
   "cell_type": "code",
   "execution_count": 30,
   "metadata": {},
   "outputs": [
    {
     "name": "stdout",
     "output_type": "stream",
     "text": [
      "['Tom\\n', 'Pierre\\n', 'nirmal\\n', 'kumar\\n']\n"
     ]
    }
   ],
   "source": [
    "#removing content\n",
    "delete_word='Jack'\n",
    "\n",
    "lines=[]\n",
    "with open(\"names.txt\",\"r\") as file:\n",
    "    for line in file:\n",
    "        if delete_word not in line:\n",
    "            lines.append(line)\n",
    "\n",
    "print(lines)\n",
    "\n",
    "with open(\"names.txt\",\"w\") as file:\n",
    "    for line in lines:\n",
    "        file.write(line)\n"
   ]
  },
  {
   "cell_type": "code",
   "execution_count": 33,
   "metadata": {},
   "outputs": [
    {
     "name": "stdout",
     "output_type": "stream",
     "text": [
      "['cheese', '50.00\\n']\n",
      "['milk', '220.00\\n']\n",
      "['rice', '340.00\\n']\n",
      "['apple', '15.00\\n']\n",
      "['banana', '5.00']\n",
      "{'cheese': '50.00', 'milk': '220.00', 'rice': '340.00', 'apple': '15.00', 'banana': '5.00'}\n"
     ]
    }
   ],
   "source": [
    "#convert inventory file to dictionary\n",
    "\n",
    "inventory={}\n",
    "with open(\"inventory.txt\",\"r\") as file:\n",
    "\n",
    "    for line in file:\n",
    "        data=line.split(',')\n",
    "        print(data)\n",
    "        item_name=data[0].strip()\n",
    "        item_price=data[1].strip()\n",
    "        inventory[item_name]=item_price\n",
    "\n",
    "print(inventory)\n",
    "   \n"
   ]
  },
  {
   "cell_type": "code",
   "execution_count": 42,
   "metadata": {},
   "outputs": [],
   "source": [
    "names={\n",
    "    'Tom': 20,\n",
    "    'John': 30,\n",
    "    'Jack': 40\n",
    "}\n",
    "\n",
    "with open('ages.txt','w') as file:\n",
    "    for key in names:\n",
    "        file.write(f'{key},{names[key]}\\n')\n"
   ]
  },
  {
   "cell_type": "code",
   "execution_count": 35,
   "metadata": {},
   "outputs": [
    {
     "name": "stdout",
     "output_type": "stream",
     "text": [
      "<bound method NDFrame.head of            code                  area        date  median_salary  \\\n",
      "0     E09000001        city of london  1999-12-01        33020.0   \n",
      "1     E09000002  barking and dagenham  1999-12-01        21480.0   \n",
      "2     E09000003                barnet  1999-12-01        19568.0   \n",
      "3     E09000004                bexley  1999-12-01        18621.0   \n",
      "4     E09000005                 brent  1999-12-01        18532.0   \n",
      "...         ...                   ...         ...            ...   \n",
      "1066  K03000001         great britain  2019-12-01        30446.0   \n",
      "1067  K04000001     england and wales  2019-12-01        30500.0   \n",
      "1068  N92000002      northern ireland  2019-12-01        27434.0   \n",
      "1069  S92000003              scotland  2019-12-01        30000.0   \n",
      "1070  W92000004                 wales  2019-12-01        27500.0   \n",
      "\n",
      "      life_satisfaction mean_salary recycling_pct  population_size  \\\n",
      "0                   NaN       48922             0           6581.0   \n",
      "1                   NaN       23620             3         162444.0   \n",
      "2                   NaN       23128             8         313469.0   \n",
      "3                   NaN       21386            18         217458.0   \n",
      "4                   NaN       20911             6         260317.0   \n",
      "...                 ...         ...           ...              ...   \n",
      "1066                NaN       37603           NaN              NaN   \n",
      "1067                NaN       37865           NaN              NaN   \n",
      "1068                NaN       32083           NaN              NaN   \n",
      "1069                NaN       34916           NaN              NaN   \n",
      "1070                NaN       31251           NaN              NaN   \n",
      "\n",
      "      number_of_jobs  area_size  no_of_houses  borough_flag  \n",
      "0                NaN        NaN           NaN             1  \n",
      "1                NaN        NaN           NaN             1  \n",
      "2                NaN        NaN           NaN             1  \n",
      "3                NaN        NaN           NaN             1  \n",
      "4                NaN        NaN           NaN             1  \n",
      "...              ...        ...           ...           ...  \n",
      "1066             NaN        NaN           NaN             0  \n",
      "1067             NaN        NaN           NaN             0  \n",
      "1068             NaN        NaN           NaN             0  \n",
      "1069             NaN        NaN           NaN             0  \n",
      "1070             NaN        NaN           NaN             0  \n",
      "\n",
      "[1071 rows x 12 columns]>\n"
     ]
    }
   ],
   "source": [
    "import numpy as np\n",
    "import pandas as pd\n",
    "\n",
    "\n",
    "content=pd.read_csv(\"housing.csv\")\n",
    "\n",
    "print(content.head)\n",
    "\n"
   ]
  },
  {
   "cell_type": "code",
   "execution_count": 37,
   "metadata": {},
   "outputs": [
    {
     "name": "stdout",
     "output_type": "stream",
     "text": [
      "       median_salary  life_satisfaction  population_size  number_of_jobs  \\\n",
      "count    1049.000000         352.000000     1.018000e+03    9.310000e+02   \n",
      "mean    27977.792183           7.485057     6.042576e+06    3.188095e+06   \n",
      "std      6412.807487           0.198451     1.526810e+07    8.058302e+06   \n",
      "min     15684.000000           7.000000     6.581000e+03    4.700000e+04   \n",
      "25%     23857.000000           7.350000     2.243458e+05    9.450000e+04   \n",
      "50%     27441.000000           7.510000     2.946035e+05    1.570000e+05   \n",
      "75%     30932.000000           7.640000     4.630098e+06    2.217000e+06   \n",
      "max     61636.000000           7.960000     6.643555e+07    3.575000e+07   \n",
      "\n",
      "          area_size  no_of_houses  borough_flag  \n",
      "count  6.660000e+02  6.660000e+02   1071.000000  \n",
      "mean   3.724903e+05  8.814682e+05      0.647059  \n",
      "std    2.157060e+06  3.690376e+06      0.478108  \n",
      "min    3.150000e+02  5.009000e+03      0.000000  \n",
      "25%    2.960000e+03  8.763550e+04      0.000000  \n",
      "50%    4.323000e+03  1.024020e+05      1.000000  \n",
      "75%    8.220000e+03  1.262760e+05      1.000000  \n",
      "max    1.330373e+07  2.417217e+07      1.000000  \n"
     ]
    }
   ],
   "source": [
    "print(content.describe())"
   ]
  },
  {
   "cell_type": "code",
   "execution_count": 38,
   "metadata": {},
   "outputs": [
    {
     "name": "stdout",
     "output_type": "stream",
     "text": [
      "<class 'pandas.core.frame.DataFrame'>\n",
      "RangeIndex: 1071 entries, 0 to 1070\n",
      "Data columns (total 12 columns):\n",
      " #   Column             Non-Null Count  Dtype  \n",
      "---  ------             --------------  -----  \n",
      " 0   code               1071 non-null   object \n",
      " 1   area               1071 non-null   object \n",
      " 2   date               1071 non-null   object \n",
      " 3   median_salary      1049 non-null   float64\n",
      " 4   life_satisfaction  352 non-null    float64\n",
      " 5   mean_salary        1071 non-null   object \n",
      " 6   recycling_pct      860 non-null    object \n",
      " 7   population_size    1018 non-null   float64\n",
      " 8   number_of_jobs     931 non-null    float64\n",
      " 9   area_size          666 non-null    float64\n",
      " 10  no_of_houses       666 non-null    float64\n",
      " 11  borough_flag       1071 non-null   int64  \n",
      "dtypes: float64(6), int64(1), object(5)\n",
      "memory usage: 100.5+ KB\n",
      "None\n"
     ]
    }
   ],
   "source": [
    "print(content.info())"
   ]
  },
  {
   "cell_type": "code",
   "execution_count": 43,
   "metadata": {},
   "outputs": [
    {
     "ename": "FileNotFoundError",
     "evalue": "[Errno 2] No such file or directory: 'abce.txt'",
     "output_type": "error",
     "traceback": [
      "\u001b[0;31m---------------------------------------------------------------------------\u001b[0m",
      "\u001b[0;31mFileNotFoundError\u001b[0m                         Traceback (most recent call last)",
      "\u001b[1;32m/Users/nirmal/Desktop/Coder Faculty/Bootcamp/codes/week 3/files.ipynb Cell 18\u001b[0m in \u001b[0;36m<cell line: 1>\u001b[0;34m()\u001b[0m\n\u001b[0;32m----> <a href='vscode-notebook-cell:/Users/nirmal/Desktop/Coder%20Faculty/Bootcamp/codes/week%203/files.ipynb#X24sZmlsZQ%3D%3D?line=0'>1</a>\u001b[0m file\u001b[39m=\u001b[39m\u001b[39mopen\u001b[39;49m(\u001b[39m'\u001b[39;49m\u001b[39mabce.txt\u001b[39;49m\u001b[39m'\u001b[39;49m,\u001b[39m'\u001b[39;49m\u001b[39mr\u001b[39;49m\u001b[39m'\u001b[39;49m)\n",
      "\u001b[0;31mFileNotFoundError\u001b[0m: [Errno 2] No such file or directory: 'abce.txt'"
     ]
    }
   ],
   "source": [
    "file=open('abce.txt','r') #errror file not found"
   ]
  }
 ],
 "metadata": {
  "kernelspec": {
   "display_name": "Python 3",
   "language": "python",
   "name": "python3"
  },
  "language_info": {
   "codemirror_mode": {
    "name": "ipython",
    "version": 3
   },
   "file_extension": ".py",
   "mimetype": "text/x-python",
   "name": "python",
   "nbconvert_exporter": "python",
   "pygments_lexer": "ipython3",
   "version": "3.10.2"
  },
  "orig_nbformat": 4
 },
 "nbformat": 4,
 "nbformat_minor": 2
}
