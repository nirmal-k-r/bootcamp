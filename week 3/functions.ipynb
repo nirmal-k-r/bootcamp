{
 "cells": [
  {
   "cell_type": "code",
   "execution_count": 5,
   "metadata": {},
   "outputs": [
    {
     "name": "stdout",
     "output_type": "stream",
     "text": [
      "maths: 40\n",
      "french: 50\n",
      "chinese: 70\n"
     ]
    }
   ],
   "source": [
    "#inputs\n",
    "num_subjects=int(input(\"Enter the number of subjects: \"))\n",
    "\n",
    "marks={}\n",
    "for i in range(num_subjects):\n",
    "    subject=input(\"Enter subject name: \")\n",
    "    mark=int(input(\"Enter marks: \"))\n",
    "    marks[subject]=mark\n",
    "\n",
    "#calculating the average\n",
    "total=0\n",
    "for key in marks:\n",
    "    value=marks[key]\n",
    "    total=total+value\n",
    "\n",
    "average=total/num_subjects\n",
    "\n",
    "\n",
    "#displaying the result\n",
    "for key in marks:\n",
    "    print(f\"{key}: {marks[key]}\")\n",
    "\n",
    "\n",
    "   "
   ]
  },
  {
   "cell_type": "code",
   "execution_count": 39,
   "metadata": {},
   "outputs": [
    {
     "name": "stdout",
     "output_type": "stream",
     "text": [
      "english: 10\n",
      "french : 10\n",
      "maths : 0\n"
     ]
    }
   ],
   "source": [
    "def inputs():#inputs\n",
    "    num_subjects=int(input(\"Enter the number of subjects: \"))\n",
    "\n",
    "    marks={}\n",
    "    for i in range(num_subjects):\n",
    "        subject=input(\"Enter subject name: \")\n",
    "        mark=int(input(\"Enter marks: \"))\n",
    "        marks[subject]=mark\n",
    "\n",
    "    return [num_subjects,marks]\n",
    "\n",
    "def average(marks,num_subjects=1):\n",
    "    total=0\n",
    "    for key in marks:\n",
    "        value=marks[key]\n",
    "        total=total+value\n",
    "\n",
    "    average=total/num_subjects\n",
    "    return average\n",
    "\n",
    "def result(marks):\n",
    "    for key in marks:\n",
    "        print(f\"{key}: {marks[key]}\")\n",
    "    \n",
    "#main program \n",
    "num_subjects,marks=inputs()\n",
    "average=average(marks,num_subjects)\n",
    "result(marks)\n",
    "\n",
    "\n",
    "    "
   ]
  },
  {
   "cell_type": "code",
   "execution_count": 24,
   "metadata": {},
   "outputs": [
    {
     "name": "stdout",
     "output_type": "stream",
     "text": [
      "hello\n",
      "--------\n",
      "hello\n",
      "hello\n",
      "hello\n",
      "hello\n",
      "hello\n",
      "hello\n",
      "hello\n"
     ]
    }
   ],
   "source": [
    "def test():  #function definition\n",
    "    print(\"hello\")\n",
    "\n",
    "\n",
    "test()  #function call\n",
    "\n",
    "\n",
    "print(\"--------\")\n",
    "test()\n",
    "test()\n",
    "\n",
    "for i in range(5):\n",
    "    test()"
   ]
  },
  {
   "cell_type": "code",
   "execution_count": 26,
   "metadata": {},
   "outputs": [
    {
     "name": "stdout",
     "output_type": "stream",
     "text": [
      "abcd\n"
     ]
    }
   ],
   "source": [
    "def test():\n",
    "    return \"abcd\"\n",
    "\n",
    "\n",
    "result=test()\n",
    "print(result)"
   ]
  },
  {
   "cell_type": "code",
   "execution_count": 28,
   "metadata": {},
   "outputs": [
    {
     "name": "stdout",
     "output_type": "stream",
     "text": [
      "20\n"
     ]
    }
   ],
   "source": [
    "#functions\n",
    "def add(number1,number2): #function parameters\n",
    "    return number1+number2\n",
    "\n",
    "#main program\n",
    "\n",
    "sum=add(10,10)\n",
    "print(sum)\n"
   ]
  },
  {
   "cell_type": "code",
   "execution_count": 29,
   "metadata": {},
   "outputs": [
    {
     "name": "stdout",
     "output_type": "stream",
     "text": [
      "testtesttesttest\n"
     ]
    }
   ],
   "source": [
    "data=\"test\"\n",
    "\n",
    "print(data*4)"
   ]
  },
  {
   "cell_type": "code",
   "execution_count": 36,
   "metadata": {},
   "outputs": [
    {
     "name": "stdout",
     "output_type": "stream",
     "text": [
      "testtest\n",
      "test\n"
     ]
    }
   ],
   "source": [
    "def repeat(data,num=1): #default parameter num\n",
    "    print(data*num)\n",
    "\n",
    "repeat(\"test\",2)\n",
    "\n",
    "repeat(\"test\")\n"
   ]
  },
  {
   "cell_type": "code",
   "execution_count": 37,
   "metadata": {},
   "outputs": [
    {
     "data": {
      "text/plain": [
       "1.5"
      ]
     },
     "execution_count": 37,
     "metadata": {},
     "output_type": "execute_result"
    }
   ],
   "source": [
    "def average(sum,num_subjects):\n",
    "    return sum/num_subjects\n",
    "\n",
    "sum= lambda a,b : a+b\n",
    "\n",
    "average(sum(1,2),num_subjects=2)"
   ]
  },
  {
   "cell_type": "code",
   "execution_count": 47,
   "metadata": {},
   "outputs": [
    {
     "data": {
      "text/plain": [
       "6"
      ]
     },
     "execution_count": 47,
     "metadata": {},
     "output_type": "execute_result"
    }
   ],
   "source": [
    "def sum(*num):\n",
    "    total=0\n",
    "    for i in num:\n",
    "        total=total+i\n",
    "    return total\n",
    "\n",
    "sum(1)\n",
    "sum(1,2,3)"
   ]
  },
  {
   "cell_type": "code",
   "execution_count": 48,
   "metadata": {},
   "outputs": [
    {
     "data": {
      "text/plain": [
       "20.0"
      ]
     },
     "execution_count": 48,
     "metadata": {},
     "output_type": "execute_result"
    }
   ],
   "source": [
    "def average_rainfall(**months):\n",
    "    total=0\n",
    "    for key in months:\n",
    "        total=total+months[key]\n",
    "    return total/len(months)\n",
    "\n",
    "average_rainfall(feb=20,jan=10,mar=30)\n"
   ]
  },
  {
   "cell_type": "code",
   "execution_count": 49,
   "metadata": {},
   "outputs": [
    {
     "name": "stdout",
     "output_type": "stream",
     "text": [
      "dict_keys(['jan', 'feb', 'mar'])\n"
     ]
    },
    {
     "data": {
      "text/plain": [
       "56.666666666666664"
      ]
     },
     "execution_count": 49,
     "metadata": {},
     "output_type": "execute_result"
    }
   ],
   "source": [
    "def average_rainfall(*additional,**months):\n",
    "    total=0\n",
    "    for key in months:\n",
    "        total=total+months[key]\n",
    "    for i in additional:\n",
    "        total=total+i\n",
    "    \n",
    "    print(months.keys())\n",
    "    return total/len(months)\n",
    "\n",
    "   \n",
    "\n",
    "\n",
    "average_rainfall(30,27,27,26,jan=10,feb=20,mar=30)"
   ]
  },
  {
   "cell_type": "code",
   "execution_count": 56,
   "metadata": {},
   "outputs": [
    {
     "data": {
      "text/plain": [
       "30.0"
      ]
     },
     "execution_count": 56,
     "metadata": {},
     "output_type": "execute_result"
    }
   ],
   "source": [
    "import numpy as np\n",
    "\n",
    "def average(*numbers, **specific):\n",
    "    temp=list(numbers)\n",
    "    list.append(temp,specific.values())\n",
    "    return np.average(numbers)\n",
    "\n",
    "average(10,20,30,40,50,imp=60)\n"
   ]
  }
 ],
 "metadata": {
  "kernelspec": {
   "display_name": "Python 3",
   "language": "python",
   "name": "python3"
  },
  "language_info": {
   "codemirror_mode": {
    "name": "ipython",
    "version": 3
   },
   "file_extension": ".py",
   "mimetype": "text/x-python",
   "name": "python",
   "nbconvert_exporter": "python",
   "pygments_lexer": "ipython3",
   "version": "3.10.2"
  },
  "orig_nbformat": 4
 },
 "nbformat": 4,
 "nbformat_minor": 2
}
