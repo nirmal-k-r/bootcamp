{
 "cells": [
  {
   "cell_type": "code",
   "execution_count": 11,
   "metadata": {},
   "outputs": [
    {
     "name": "stdout",
     "output_type": "stream",
     "text": [
      "Hello world\n"
     ]
    },
    {
     "data": {
      "text/plain": [
       "'\\nthis is a multiline comment\\n'"
      ]
     },
     "execution_count": 11,
     "metadata": {},
     "output_type": "execute_result"
    }
   ],
   "source": [
    "# this program displays some text\n",
    "# comment 2\n",
    "# comment 3\n",
    "print(\"Hello world\") #display hello world\n",
    "\n",
    "#multiline comment\n"
   ]
  },
  {
   "cell_type": "code",
   "execution_count": 4,
   "metadata": {},
   "outputs": [
    {
     "name": "stdout",
     "output_type": "stream",
     "text": [
      "hello\n",
      "My name's Nirmal\n"
     ]
    }
   ],
   "source": [
    "print(\"hello\")\n",
    "print(\"My name's Nirmal\")"
   ]
  },
  {
   "cell_type": "code",
   "execution_count": 16,
   "metadata": {},
   "outputs": [
    {
     "name": "stdout",
     "output_type": "stream",
     "text": [
      "Nirmal\n",
      "10\n",
      "True\n",
      "10\n"
     ]
    }
   ],
   "source": [
    "name = \"Nirmal\"\n",
    "\n",
    "\n",
    "print(\"Nirmal\")\n",
    "print(10)\n",
    "print(True)\n",
    "\n",
    "age = 10\n",
    "print(age)\n"
   ]
  },
  {
   "cell_type": "code",
   "execution_count": 20,
   "metadata": {},
   "outputs": [
    {
     "name": "stdout",
     "output_type": "stream",
     "text": [
      "10\n",
      "20\n",
      "-100000\n",
      "0\n"
     ]
    }
   ],
   "source": [
    "#integers\n",
    "number=10\n",
    "print(number)\n",
    "number=20\n",
    "print(number)\n",
    "\n",
    "number=-100000\n",
    "print(number)\n",
    "\n",
    "number=0\n",
    "\n",
    "print(number)\n"
   ]
  },
  {
   "cell_type": "code",
   "execution_count": 25,
   "metadata": {},
   "outputs": [
    {
     "name": "stdout",
     "output_type": "stream",
     "text": [
      "-567.89\n"
     ]
    }
   ],
   "source": [
    "#floating points (floats)\n",
    "\n",
    "total=1000.50\n",
    "\n",
    "total=1000.00\n",
    "\n",
    "total=135.4564000000\n",
    "\n",
    "total=65.001\n",
    "\n",
    "total = -567.89\n",
    "print(total)"
   ]
  },
  {
   "cell_type": "code",
   "execution_count": 35,
   "metadata": {},
   "outputs": [
    {
     "name": "stdout",
     "output_type": "stream",
     "text": [
      "Paul\n",
      "this is a sentence 1234 &$\n",
      "My name is John. \n",
      "I am 100 years old. \n",
      "\tI live in London.\n"
     ]
    }
   ],
   "source": [
    "#strings\n",
    "\n",
    "name=\"Nirmal\"\n",
    "name=\"A\"\n",
    "\n",
    "name='Paul'\n",
    "\n",
    "sentence='this is a sentence 1234 &$'\n",
    "\n",
    "\n",
    "paragraph = \"My name is John. \\nI am 100 years old. \\n\\tI live in London.\"\n",
    "\n",
    "\n",
    "\n",
    "\n",
    "print(name)\n",
    "print(sentence)\n",
    "\n",
    "print(paragraph)"
   ]
  },
  {
   "cell_type": "code",
   "execution_count": 36,
   "metadata": {},
   "outputs": [
    {
     "name": "stdout",
     "output_type": "stream",
     "text": [
      "False\n"
     ]
    }
   ],
   "source": [
    "#boolean\n",
    "\n",
    "paid = True #represented by 1\n",
    "paid = False #represented by 0\n",
    "\n",
    "print(paid)"
   ]
  },
  {
   "cell_type": "code",
   "execution_count": 38,
   "metadata": {},
   "outputs": [
    {
     "name": "stdout",
     "output_type": "stream",
     "text": [
      "1000\n"
     ]
    }
   ],
   "source": [
    "total = 100\n",
    "\n",
    "total2=200\n",
    "\n",
    "tot2al=300\n",
    "\n",
    "# 5total= 1000 #variable name cannot start with a number\n",
    "\n",
    "# total$=200\n",
    "\n",
    "total_5=1000\n",
    "\n",
    "print(total_5)"
   ]
  },
  {
   "cell_type": "code",
   "execution_count": null,
   "metadata": {},
   "outputs": [],
   "source": [
    "#constants\n",
    "PI=3.14"
   ]
  },
  {
   "cell_type": "code",
   "execution_count": 47,
   "metadata": {},
   "outputs": [
    {
     "name": "stdout",
     "output_type": "stream",
     "text": [
      "<class 'float'>\n",
      "1000\n",
      "True\n",
      "<class 'bool'>\n",
      "<class 'str'>\n",
      "1000\n",
      "1000\n",
      "<class 'int'>\n"
     ]
    }
   ],
   "source": [
    "#casting (changing data types)\n",
    "total=1000.50\n",
    "\n",
    "print(type(total))\n",
    "\n",
    "total= int(total)\n",
    "print(total)\n",
    "\n",
    "paid=1\n",
    "paid= bool(paid)\n",
    "\n",
    "print(paid)\n",
    "\n",
    "print(type(paid))\n",
    "\n",
    "\n",
    "total=\"1000\"\n",
    "\n",
    "print(type(total))\n",
    "\n",
    "print(total)\n",
    "total= int(total)\n",
    "print(total)\n",
    "\n",
    "print(type(total))\n",
    "\n"
   ]
  },
  {
   "cell_type": "code",
   "execution_count": 56,
   "metadata": {},
   "outputs": [
    {
     "name": "stdout",
     "output_type": "stream",
     "text": [
      "Hi my name is Nirmal\n",
      "The cats name is\n",
      "Jeff\n",
      "The cats name is Jeff\n",
      "The cats name is Jeff and the mans name is Paul\n"
     ]
    }
   ],
   "source": [
    "#output\n",
    "print(\"Hi my name is Nirmal\")\n",
    "\n",
    "cat=\"Jeff\"\n",
    "# print(cat)\n",
    "\n",
    "\n",
    "print(\"The cats name is\")\n",
    "print(cat)\n",
    "\n",
    "\n",
    "print(\"The cats name is \" + cat)\n",
    "\n",
    "\n",
    "print(\"The cats name is \" + cat + \" and the mans name is \"+ name)\n"
   ]
  },
  {
   "cell_type": "code",
   "execution_count": 65,
   "metadata": {},
   "outputs": [
    {
     "name": "stdout",
     "output_type": "stream",
     "text": [
      "Name is John and age is 40\n"
     ]
    }
   ],
   "source": [
    "name=\"John\"\n",
    "age=40\n",
    "\n",
    "# print(\"Name is \"+ name +\" and his age is \"+ str(age))\n",
    "\n",
    "# print(\"Name is {} and his age is {}\".format(name,age) )\n",
    "\n",
    "print(f'Name is {name} and age is {age}')"
   ]
  },
  {
   "cell_type": "code",
   "execution_count": 66,
   "metadata": {},
   "outputs": [
    {
     "name": "stdout",
     "output_type": "stream",
     "text": [
      "test\n"
     ]
    }
   ],
   "source": [
    "#inputs\n",
    "\n",
    "name=input(\"Please enter your name: \")\n",
    "\n",
    "print(name)"
   ]
  },
  {
   "cell_type": "code",
   "execution_count": 72,
   "metadata": {},
   "outputs": [
    {
     "name": "stdout",
     "output_type": "stream",
     "text": [
      "11\n"
     ]
    }
   ],
   "source": [
    "age=input('Enter your age')\n",
    "\n",
    "age=int(age)\n",
    "\n",
    "\n",
    "age=age+1\n",
    "\n",
    "print(age)"
   ]
  },
  {
   "cell_type": "code",
   "execution_count": 75,
   "metadata": {},
   "outputs": [
    {
     "name": "stdout",
     "output_type": "stream",
     "text": [
      "15\n",
      "5\n",
      "50\n",
      "2.0\n",
      "20.0\n"
     ]
    }
   ],
   "source": [
    "#operations\n",
    "num1=10\n",
    "num2=5\n",
    "\n",
    "print(num1+num2)\n",
    "print(num1-num2)\n",
    "\n",
    "print(num1*num2)\n",
    "print(num1/num2)\n",
    "\n",
    "print(10*2.0)\n"
   ]
  },
  {
   "cell_type": "code",
   "execution_count": 77,
   "metadata": {},
   "outputs": [
    {
     "name": "stdout",
     "output_type": "stream",
     "text": [
      "11.0\n"
     ]
    }
   ],
   "source": [
    "result= 10+30/(5*6)\n",
    " #BODMAS\n",
    "\n",
    "print(result)"
   ]
  },
  {
   "cell_type": "code",
   "execution_count": 81,
   "metadata": {},
   "outputs": [
    {
     "name": "stdout",
     "output_type": "stream",
     "text": [
      "testtesttesttest\n"
     ]
    }
   ],
   "source": [
    "#repeating strings\n",
    "\n",
    "data=\"test\"\n",
    "\n",
    "print(data*4)"
   ]
  }
 ],
 "metadata": {
  "kernelspec": {
   "display_name": "Python 3",
   "language": "python",
   "name": "python3"
  },
  "language_info": {
   "codemirror_mode": {
    "name": "ipython",
    "version": 3
   },
   "file_extension": ".py",
   "mimetype": "text/x-python",
   "name": "python",
   "nbconvert_exporter": "python",
   "pygments_lexer": "ipython3",
   "version": "3.10.2"
  },
  "orig_nbformat": 4
 },
 "nbformat": 4,
 "nbformat_minor": 2
}
